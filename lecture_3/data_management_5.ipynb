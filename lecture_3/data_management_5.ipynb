{
 "cells": [
  {
   "cell_type": "markdown",
   "metadata": {},
   "source": [
    "# Dask Bags and Map-Reduce part 2\n",
    "\n",
    "\n",
    "Dask Bag implements operations like `map`, `filter`, `groupby` and aggregations on collections of Python objects. It does this in parallel and in small memory using Python iterators. It is similar to a parallel version of itertools or a Pythonic version of the PySpark RDD.\n",
    "\n",
    "Dask Bags are often used to do simple preprocessing on log files, JSON records, or other user defined Python objects."
   ]
  },
  {
   "cell_type": "code",
   "execution_count": 2,
   "metadata": {},
   "outputs": [
    {
     "data": {
      "text/html": [
       "<table style=\"border: 2px solid white;\">\n",
       "<tr>\n",
       "<td style=\"vertical-align: top; border: 0px solid white\">\n",
       "<h3 style=\"text-align: left;\">Client</h3>\n",
       "<ul style=\"text-align: left; list-style: none; margin: 0; padding: 0;\">\n",
       "  <li><b>Scheduler: </b>tcp://127.0.0.1:60330</li>\n",
       "  <li><b>Dashboard: </b><a href='http://127.0.0.1:8787/status' target='_blank'>http://127.0.0.1:8787/status</a></li>\n",
       "</ul>\n",
       "</td>\n",
       "<td style=\"vertical-align: top; border: 0px solid white\">\n",
       "<h3 style=\"text-align: left;\">Cluster</h3>\n",
       "<ul style=\"text-align: left; list-style:none; margin: 0; padding: 0;\">\n",
       "  <li><b>Workers: </b>4</li>\n",
       "  <li><b>Cores: </b>8</li>\n",
       "  <li><b>Memory: </b>7.92 GB</li>\n",
       "</ul>\n",
       "</td>\n",
       "</tr>\n",
       "</table>"
      ],
      "text/plain": [
       "<Client: 'tcp://127.0.0.1:60330' processes=4 threads=8, memory=7.92 GB>"
      ]
     },
     "execution_count": 2,
     "metadata": {},
     "output_type": "execute_result"
    }
   ],
   "source": [
    "from dask.distributed import Client\n",
    "client = Client() #Client('dask-scheduler:8786')\n",
    "client"
   ]
  },
  {
   "cell_type": "markdown",
   "metadata": {},
   "source": [
    "## Read JSON data\n",
    "\n",
    "Now that we have some JSON data in a file lets take a look at it with Dask Bag and Python JSON module."
   ]
  },
  {
   "cell_type": "code",
   "execution_count": 3,
   "metadata": {},
   "outputs": [
    {
     "name": "stderr",
     "output_type": "stream",
     "text": [
      "\"head\" non Š riconosciuto come comando interno o esterno,\n",
      " un programma eseguibile o un file batch.\n"
     ]
    }
   ],
   "source": [
    "!head -n 2 data/bag/0.json"
   ]
  },
  {
   "cell_type": "code",
   "execution_count": 4,
   "metadata": {},
   "outputs": [
    {
     "data": {
      "text/plain": [
       "dask.bag<loads, npartitions=10>"
      ]
     },
     "execution_count": 4,
     "metadata": {},
     "output_type": "execute_result"
    }
   ],
   "source": [
    "import dask.bag as db\n",
    "import json\n",
    "\n",
    "b = db.read_text('data/bag/*.json').map(json.loads)\n",
    "b"
   ]
  },
  {
   "cell_type": "code",
   "execution_count": 9,
   "metadata": {},
   "outputs": [
    {
     "data": {
      "text/plain": [
       "({'age': 63,\n",
       "  'name': ['Ike', 'Rowland'],\n",
       "  'occupation': 'Wholesale Newspaper',\n",
       "  'telephone': '117.341.3466',\n",
       "  'address': {'address': '951 Jean Walk', 'city': 'West Chicago'},\n",
       "  'credit-card': {'number': '3748 984723 54799', 'expiration-date': '02/22'}},\n",
       " {'age': 16,\n",
       "  'name': ['Ethelene', 'Wolf'],\n",
       "  'occupation': 'Barmaid',\n",
       "  'telephone': '(153) 829-8347',\n",
       "  'address': {'address': '611 Ridgewood Garden', 'city': 'Sanford'},\n",
       "  'credit-card': {'number': '4943 1602 2905 5284',\n",
       "   'expiration-date': '10/21'}},\n",
       " {'age': 22,\n",
       "  'name': ['Manie', 'Mcintosh'],\n",
       "  'occupation': 'Welder',\n",
       "  'telephone': '762-503-7369',\n",
       "  'address': {'address': '404 Nadell Line', 'city': 'Mount Juliet'},\n",
       "  'credit-card': {'number': '3715 662910 59872', 'expiration-date': '05/22'}},\n",
       " {'age': 61,\n",
       "  'name': ['Morgan', 'Baird'],\n",
       "  'occupation': 'Builder',\n",
       "  'telephone': '307.854.7396',\n",
       "  'address': {'address': '1215 Coralino Private', 'city': 'Mason'},\n",
       "  'credit-card': {'number': '3740 881515 86602', 'expiration-date': '02/20'}},\n",
       " {'age': 59,\n",
       "  'name': ['Darrel', 'Holloway'],\n",
       "  'occupation': 'Radiologist',\n",
       "  'telephone': '1-440-144-8989',\n",
       "  'address': {'address': '1321 Conservatory Point', 'city': 'Alice'},\n",
       "  'credit-card': {'number': '3766 058764 62690', 'expiration-date': '07/17'}},\n",
       " {'age': 31,\n",
       "  'name': ['Yong', 'Romero'],\n",
       "  'occupation': 'Painter',\n",
       "  'telephone': '+1-(060)-739-6978',\n",
       "  'address': {'address': '267 East Crystal Cove Brae', 'city': 'Hillsboro'},\n",
       "  'credit-card': {'number': '3472 601326 37408', 'expiration-date': '09/17'}},\n",
       " {'age': 64,\n",
       "  'name': ['Maxwell', 'Keller'],\n",
       "  'occupation': 'Optician',\n",
       "  'telephone': '548-491-0934',\n",
       "  'address': {'address': '1342 Martin Luther King Jr Freeway',\n",
       "   'city': 'Omaha'},\n",
       "  'credit-card': {'number': '5493 9449 8113 0653',\n",
       "   'expiration-date': '01/22'}},\n",
       " {'age': 63,\n",
       "  'name': ['Ali', 'Mathews'],\n",
       "  'occupation': 'Toy Maker',\n",
       "  'telephone': '+1-(479)-457-8031',\n",
       "  'address': {'address': '1215 Lundys Line', 'city': 'Brawley'},\n",
       "  'credit-card': {'number': '4827 4674 5487 1785',\n",
       "   'expiration-date': '02/16'}},\n",
       " {'age': 17,\n",
       "  'name': ['Kyle', 'Christian'],\n",
       "  'occupation': 'Miner',\n",
       "  'telephone': '(628) 132-3451',\n",
       "  'address': {'address': '732 Prosper Sideline', 'city': 'Cicero'},\n",
       "  'credit-card': {'number': '4363 9694 0883 8760',\n",
       "   'expiration-date': '05/23'}},\n",
       " {'age': 39,\n",
       "  'name': ['Fredda', 'Pate'],\n",
       "  'occupation': 'Speech Therapist',\n",
       "  'telephone': '375.231.9904',\n",
       "  'address': {'address': '1249 Chattanooga Annex', 'city': 'Roseburg'},\n",
       "  'credit-card': {'number': '3451 257108 45248', 'expiration-date': '06/25'}})"
      ]
     },
     "execution_count": 9,
     "metadata": {},
     "output_type": "execute_result"
    }
   ],
   "source": [
    "b.take(10)"
   ]
  },
  {
   "cell_type": "markdown",
   "metadata": {},
   "source": [
    "## Map, Filter, Aggregate\n",
    "\n",
    "We can process this data by filtering out only certain records of interest, mapping functions over it to process our data, and aggregating those results to a total value."
   ]
  },
  {
   "cell_type": "code",
   "execution_count": 10,
   "metadata": {},
   "outputs": [
    {
     "data": {
      "text/plain": [
       "({'age': 63,\n",
       "  'name': ['Ike', 'Rowland'],\n",
       "  'occupation': 'Wholesale Newspaper',\n",
       "  'telephone': '117.341.3466',\n",
       "  'address': {'address': '951 Jean Walk', 'city': 'West Chicago'},\n",
       "  'credit-card': {'number': '3748 984723 54799', 'expiration-date': '02/22'}},\n",
       " {'age': 61,\n",
       "  'name': ['Morgan', 'Baird'],\n",
       "  'occupation': 'Builder',\n",
       "  'telephone': '307.854.7396',\n",
       "  'address': {'address': '1215 Coralino Private', 'city': 'Mason'},\n",
       "  'credit-card': {'number': '3740 881515 86602', 'expiration-date': '02/20'}})"
      ]
     },
     "execution_count": 10,
     "metadata": {},
     "output_type": "execute_result"
    }
   ],
   "source": [
    "def filt(record):\n",
    "    \n",
    "    return record['age'] > 30\n",
    "\n",
    "b.filter(lambda record: record['age'] > 30).take(2)  # Select only people over 30"
   ]
  },
  {
   "cell_type": "code",
   "execution_count": 19,
   "metadata": {},
   "outputs": [
    {
     "data": {
      "text/plain": [
       "('Wholesale Newspaper',\n",
       " 'Barmaid',\n",
       " 'Welder',\n",
       " 'Builder',\n",
       " 'Radiologist',\n",
       " 'Painter',\n",
       " 'Optician',\n",
       " 'Toy Maker',\n",
       " 'Miner',\n",
       " 'Speech Therapist')"
      ]
     },
     "execution_count": 19,
     "metadata": {},
     "output_type": "execute_result"
    }
   ],
   "source": [
    "b.map(lambda record: record['occupation']).take(10)  # Select the occupation field"
   ]
  },
  {
   "cell_type": "code",
   "execution_count": 12,
   "metadata": {},
   "outputs": [
    {
     "data": {
      "text/plain": [
       "10000"
      ]
     },
     "execution_count": 12,
     "metadata": {},
     "output_type": "execute_result"
    }
   ],
   "source": [
    "b.count().compute()  # Count total number of records"
   ]
  },
  {
   "cell_type": "markdown",
   "metadata": {},
   "source": [
    "## Chain computations\n",
    "\n",
    "It is common to do many of these steps in one pipeline, only calling `compute` or `take` at the end."
   ]
  },
  {
   "cell_type": "code",
   "execution_count": 13,
   "metadata": {},
   "outputs": [
    {
     "data": {
      "text/plain": [
       "dask.bag<topk-aggregate, npartitions=1>"
      ]
     },
     "execution_count": 13,
     "metadata": {},
     "output_type": "execute_result"
    }
   ],
   "source": [
    "result = (b.filter(lambda record: record['age'] > 30)\n",
    "           .map(lambda record: record['occupation'])\n",
    "           .frequencies(sort=True)\n",
    "           .topk(10, key=1))\n",
    "result"
   ]
  },
  {
   "cell_type": "markdown",
   "metadata": {},
   "source": [
    "As always in roder to retrieve the results even for the bag you have to use the `compute` to actually evaluate our result.  The `take` method used in earlier examples is also like `compute` and will also trigger computation."
   ]
  },
  {
   "cell_type": "code",
   "execution_count": 14,
   "metadata": {},
   "outputs": [
    {
     "data": {
      "text/plain": [
       "[('Mineralologist', 15),\n",
       " ('Stone Sawyer', 15),\n",
       " ('Gate Keeper', 15),\n",
       " ('Airport Controller', 13),\n",
       " ('Translator', 13),\n",
       " ('Driver', 13),\n",
       " ('Marine Geologist', 13),\n",
       " ('Stone Cutter', 13),\n",
       " ('Gaming Board Inspector', 13),\n",
       " ('Pig Man', 13)]"
      ]
     },
     "execution_count": 14,
     "metadata": {},
     "output_type": "execute_result"
    }
   ],
   "source": [
    "result.compute()"
   ]
  },
  {
   "cell_type": "markdown",
   "metadata": {},
   "source": [
    "## Transform and Store\n",
    "\n",
    "Sometimes we want to compute aggregations as above, but sometimes we want to store results to disk for future analyses.  For that we can use methods like `to_textfiles` and `json.dumps`, or we can convert to Dask Dataframes and use their storage systems, which we'll see more of in the next section."
   ]
  },
  {
   "cell_type": "code",
   "execution_count": 15,
   "metadata": {},
   "outputs": [
    {
     "data": {
      "text/plain": [
       "['C:/Users/feder/Desktop/uni/mapdb/ManagementAndAnalysisOfPhysicsDatasetsB/lecture_3/data/bag/processed.0.json',\n",
       " 'C:/Users/feder/Desktop/uni/mapdb/ManagementAndAnalysisOfPhysicsDatasetsB/lecture_3/data/bag/processed.1.json',\n",
       " 'C:/Users/feder/Desktop/uni/mapdb/ManagementAndAnalysisOfPhysicsDatasetsB/lecture_3/data/bag/processed.2.json',\n",
       " 'C:/Users/feder/Desktop/uni/mapdb/ManagementAndAnalysisOfPhysicsDatasetsB/lecture_3/data/bag/processed.3.json',\n",
       " 'C:/Users/feder/Desktop/uni/mapdb/ManagementAndAnalysisOfPhysicsDatasetsB/lecture_3/data/bag/processed.4.json',\n",
       " 'C:/Users/feder/Desktop/uni/mapdb/ManagementAndAnalysisOfPhysicsDatasetsB/lecture_3/data/bag/processed.5.json',\n",
       " 'C:/Users/feder/Desktop/uni/mapdb/ManagementAndAnalysisOfPhysicsDatasetsB/lecture_3/data/bag/processed.6.json',\n",
       " 'C:/Users/feder/Desktop/uni/mapdb/ManagementAndAnalysisOfPhysicsDatasetsB/lecture_3/data/bag/processed.7.json',\n",
       " 'C:/Users/feder/Desktop/uni/mapdb/ManagementAndAnalysisOfPhysicsDatasetsB/lecture_3/data/bag/processed.8.json',\n",
       " 'C:/Users/feder/Desktop/uni/mapdb/ManagementAndAnalysisOfPhysicsDatasetsB/lecture_3/data/bag/processed.9.json']"
      ]
     },
     "execution_count": 15,
     "metadata": {},
     "output_type": "execute_result"
    }
   ],
   "source": [
    "(b.filter(lambda record: record['age'] > 30)  # Select records of interest\n",
    "  .map(json.dumps)                            # Convert Python objects to text\n",
    "  .to_textfiles('data/bag/processed.*.json'))     # Write to local disk"
   ]
  },
  {
   "cell_type": "markdown",
   "metadata": {},
   "source": [
    "## Convert to Dask Dataframes\n",
    "\n",
    "Dask Bags are good for reading in initial data, doing a bit of pre-processing, and then handing off to some other more efficient form like Dask Dataframes.  Dask Dataframes use Pandas internally, and so can be much faster on numeric data and also have more complex algorithms.  \n",
    "\n",
    "However, Dask Dataframes also expect data that is organized as flat columns.  It does not support nested JSON data very well (Bag is better for this).\n",
    "\n",
    "Here we make a function to flatten down our nested data structure, map that across our records, and then convert that to a Dask Dataframe."
   ]
  },
  {
   "cell_type": "code",
   "execution_count": 16,
   "metadata": {},
   "outputs": [
    {
     "data": {
      "text/plain": [
       "({'age': 63,\n",
       "  'name': ['Ike', 'Rowland'],\n",
       "  'occupation': 'Wholesale Newspaper',\n",
       "  'telephone': '117.341.3466',\n",
       "  'address': {'address': '951 Jean Walk', 'city': 'West Chicago'},\n",
       "  'credit-card': {'number': '3748 984723 54799', 'expiration-date': '02/22'}},)"
      ]
     },
     "execution_count": 16,
     "metadata": {},
     "output_type": "execute_result"
    }
   ],
   "source": [
    "b.take(1)"
   ]
  },
  {
   "cell_type": "code",
   "execution_count": 17,
   "metadata": {},
   "outputs": [
    {
     "data": {
      "text/plain": [
       "({'age': 63,\n",
       "  'occupation': 'Wholesale Newspaper',\n",
       "  'telephone': '117.341.3466',\n",
       "  'credit-card-number': '3748 984723 54799',\n",
       "  'credit-card-expiration': '02/22',\n",
       "  'name': 'Ike Rowland',\n",
       "  'street-address': '951 Jean Walk',\n",
       "  'city': 'West Chicago'},)"
      ]
     },
     "execution_count": 17,
     "metadata": {},
     "output_type": "execute_result"
    }
   ],
   "source": [
    "def flatten(record):\n",
    "    return {\n",
    "        'age': record['age'],\n",
    "        'occupation': record['occupation'],\n",
    "        'telephone': record['telephone'],\n",
    "        'credit-card-number': record['credit-card']['number'],\n",
    "        'credit-card-expiration': record['credit-card']['expiration-date'],\n",
    "        'name': ' '.join(record['name']),\n",
    "        'street-address': record['address']['address'],\n",
    "        'city': record['address']['city']   \n",
    "    }\n",
    "\n",
    "b.map(flatten).take(1)"
   ]
  },
  {
   "cell_type": "code",
   "execution_count": 18,
   "metadata": {},
   "outputs": [
    {
     "data": {
      "text/html": [
       "<div>\n",
       "<style scoped>\n",
       "    .dataframe tbody tr th:only-of-type {\n",
       "        vertical-align: middle;\n",
       "    }\n",
       "\n",
       "    .dataframe tbody tr th {\n",
       "        vertical-align: top;\n",
       "    }\n",
       "\n",
       "    .dataframe thead th {\n",
       "        text-align: right;\n",
       "    }\n",
       "</style>\n",
       "<table border=\"1\" class=\"dataframe\">\n",
       "  <thead>\n",
       "    <tr style=\"text-align: right;\">\n",
       "      <th></th>\n",
       "      <th>age</th>\n",
       "      <th>occupation</th>\n",
       "      <th>telephone</th>\n",
       "      <th>credit-card-number</th>\n",
       "      <th>credit-card-expiration</th>\n",
       "      <th>name</th>\n",
       "      <th>street-address</th>\n",
       "      <th>city</th>\n",
       "    </tr>\n",
       "  </thead>\n",
       "  <tbody>\n",
       "    <tr>\n",
       "      <th>0</th>\n",
       "      <td>63</td>\n",
       "      <td>Wholesale Newspaper</td>\n",
       "      <td>117.341.3466</td>\n",
       "      <td>3748 984723 54799</td>\n",
       "      <td>02/22</td>\n",
       "      <td>Ike Rowland</td>\n",
       "      <td>951 Jean Walk</td>\n",
       "      <td>West Chicago</td>\n",
       "    </tr>\n",
       "    <tr>\n",
       "      <th>1</th>\n",
       "      <td>16</td>\n",
       "      <td>Barmaid</td>\n",
       "      <td>(153) 829-8347</td>\n",
       "      <td>4943 1602 2905 5284</td>\n",
       "      <td>10/21</td>\n",
       "      <td>Ethelene Wolf</td>\n",
       "      <td>611 Ridgewood Garden</td>\n",
       "      <td>Sanford</td>\n",
       "    </tr>\n",
       "    <tr>\n",
       "      <th>2</th>\n",
       "      <td>22</td>\n",
       "      <td>Welder</td>\n",
       "      <td>762-503-7369</td>\n",
       "      <td>3715 662910 59872</td>\n",
       "      <td>05/22</td>\n",
       "      <td>Manie Mcintosh</td>\n",
       "      <td>404 Nadell Line</td>\n",
       "      <td>Mount Juliet</td>\n",
       "    </tr>\n",
       "    <tr>\n",
       "      <th>3</th>\n",
       "      <td>61</td>\n",
       "      <td>Builder</td>\n",
       "      <td>307.854.7396</td>\n",
       "      <td>3740 881515 86602</td>\n",
       "      <td>02/20</td>\n",
       "      <td>Morgan Baird</td>\n",
       "      <td>1215 Coralino Private</td>\n",
       "      <td>Mason</td>\n",
       "    </tr>\n",
       "    <tr>\n",
       "      <th>4</th>\n",
       "      <td>59</td>\n",
       "      <td>Radiologist</td>\n",
       "      <td>1-440-144-8989</td>\n",
       "      <td>3766 058764 62690</td>\n",
       "      <td>07/17</td>\n",
       "      <td>Darrel Holloway</td>\n",
       "      <td>1321 Conservatory Point</td>\n",
       "      <td>Alice</td>\n",
       "    </tr>\n",
       "  </tbody>\n",
       "</table>\n",
       "</div>"
      ],
      "text/plain": [
       "   age           occupation       telephone   credit-card-number  \\\n",
       "0   63  Wholesale Newspaper    117.341.3466    3748 984723 54799   \n",
       "1   16              Barmaid  (153) 829-8347  4943 1602 2905 5284   \n",
       "2   22               Welder    762-503-7369    3715 662910 59872   \n",
       "3   61              Builder    307.854.7396    3740 881515 86602   \n",
       "4   59          Radiologist  1-440-144-8989    3766 058764 62690   \n",
       "\n",
       "  credit-card-expiration             name           street-address  \\\n",
       "0                  02/22      Ike Rowland            951 Jean Walk   \n",
       "1                  10/21    Ethelene Wolf     611 Ridgewood Garden   \n",
       "2                  05/22   Manie Mcintosh          404 Nadell Line   \n",
       "3                  02/20     Morgan Baird    1215 Coralino Private   \n",
       "4                  07/17  Darrel Holloway  1321 Conservatory Point   \n",
       "\n",
       "           city  \n",
       "0  West Chicago  \n",
       "1       Sanford  \n",
       "2  Mount Juliet  \n",
       "3         Mason  \n",
       "4         Alice  "
      ]
     },
     "execution_count": 18,
     "metadata": {},
     "output_type": "execute_result"
    }
   ],
   "source": [
    "df = b.map(flatten).to_dataframe()\n",
    "df.head()"
   ]
  },
  {
   "cell_type": "markdown",
   "metadata": {},
   "source": [
    "We can now perform the same computation as before, but now using Pandas and Dask dataframe."
   ]
  },
  {
   "cell_type": "code",
   "execution_count": 20,
   "metadata": {},
   "outputs": [
    {
     "data": {
      "text/plain": [
       "Gate Keeper               15\n",
       "Mineralologist            15\n",
       "Stone Sawyer              15\n",
       "Plant Attendant           13\n",
       "Stone Cutter              13\n",
       "Packaging                 13\n",
       "Driver                    13\n",
       "Translator                13\n",
       "Tyre Inspector            13\n",
       "Gaming Board Inspector    13\n",
       "Name: occupation, dtype: int64"
      ]
     },
     "execution_count": 20,
     "metadata": {},
     "output_type": "execute_result"
    }
   ],
   "source": [
    "df[df.age > 30].occupation.value_counts().nlargest(10).compute()"
   ]
  },
  {
   "cell_type": "code",
   "execution_count": null,
   "metadata": {},
   "outputs": [],
   "source": []
  }
 ],
 "metadata": {
  "kernelspec": {
   "display_name": "Python 3",
   "language": "python",
   "name": "python3"
  },
  "language_info": {
   "codemirror_mode": {
    "name": "ipython",
    "version": 3
   },
   "file_extension": ".py",
   "mimetype": "text/x-python",
   "name": "python",
   "nbconvert_exporter": "python",
   "pygments_lexer": "ipython3",
   "version": "3.8.5"
  },
  "varInspector": {
   "cols": {
    "lenName": 16,
    "lenType": 16,
    "lenVar": 40
   },
   "kernels_config": {
    "python": {
     "delete_cmd_postfix": "",
     "delete_cmd_prefix": "del ",
     "library": "var_list.py",
     "varRefreshCmd": "print(var_dic_list())"
    },
    "r": {
     "delete_cmd_postfix": ") ",
     "delete_cmd_prefix": "rm(",
     "library": "var_list.r",
     "varRefreshCmd": "cat(var_dic_list()) "
    }
   },
   "types_to_exclude": [
    "module",
    "function",
    "builtin_function_or_method",
    "instance",
    "_Feature"
   ],
   "window_display": false
  }
 },
 "nbformat": 4,
 "nbformat_minor": 4
}
